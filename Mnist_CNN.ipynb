{
  "nbformat": 4,
  "nbformat_minor": 0,
  "metadata": {
    "colab": {
      "provenance": []
    },
    "kernelspec": {
      "name": "python3",
      "display_name": "Python 3"
    },
    "language_info": {
      "name": "python"
    }
  },
  "cells": [
    {
      "cell_type": "code",
      "source": [
        "from tensorflow.keras.datasets import mnist"
      ],
      "metadata": {
        "id": "8ZXDHyhjL8Ra"
      },
      "execution_count": null,
      "outputs": []
    },
    {
      "cell_type": "code",
      "source": [
        "(X_train,Y_train),(X_test,Y_test)=mnist.load_data()\n",
        "print(\"The Mnist has training dataset of %d examples\" %len(X_train))\n",
        "print(\"The Mnist has testing dataset of %d examples\" %len(X_test))"
      ],
      "metadata": {
        "colab": {
          "base_uri": "https://localhost:8080/"
        },
        "id": "-c0_EIHgMIvI",
        "outputId": "bc4867ea-5293-4e4f-eda8-f9955994d70a"
      },
      "execution_count": null,
      "outputs": [
        {
          "output_type": "stream",
          "name": "stdout",
          "text": [
            "The Mnist has training dataset of 60000 examples\n",
            "The Mnist has testing dataset of 10000 examples\n"
          ]
        }
      ]
    },
    {
      "cell_type": "code",
      "source": [
        "#Visualizing first 6 training dataset"
      ],
      "metadata": {
        "id": "Ifrq8TDMMSdj"
      },
      "execution_count": null,
      "outputs": []
    },
    {
      "cell_type": "code",
      "source": [
        "import matplotlib.pyplot as plt\n",
        "%matplotlib inline\n",
        "import matplotlib.cm as cm\n",
        "import numpy as np"
      ],
      "metadata": {
        "id": "gxL2ic3PM03x"
      },
      "execution_count": null,
      "outputs": []
    },
    {
      "cell_type": "code",
      "source": [
        "fig=plt.figure(figsize=(20,20))\n",
        "for i in range(6):\n",
        "  ax=fig.add_subplot(1,6,i+1,xticks=[],yticks=[])\n",
        "  ax.imshow(X_train[i],cmap='gray')\n",
        "  ax.set_title(str(Y_train[i]))"
      ],
      "metadata": {
        "colab": {
          "base_uri": "https://localhost:8080/",
          "height": 254
        },
        "id": "6rhNrqHPNmrI",
        "outputId": "694464cf-4925-4e01-b5f4-d12ec5c85934"
      },
      "execution_count": null,
      "outputs": [
        {
          "output_type": "display_data",
          "data": {
            "text/plain": [
              "<Figure size 2000x2000 with 6 Axes>"
            ],
            "image/png": "[encoded data removed]"
          },
          "metadata": {}
        }
      ]
    },
    {
      "cell_type": "code",
      "source": [
        "X_train=X_train.astype('float32')/255\n",
        "X_test=X_test.astype('float32')/255"
      ],
      "metadata": {
        "id": "fZvEsHfkOMnq"
      },
      "execution_count": null,
      "outputs": []
    },
    {
      "cell_type": "code",
      "source": [
        "print(\"X_train shape : \",X_train.shape)"
      ],
      "metadata": {
        "colab": {
          "base_uri": "https://localhost:8080/"
        },
        "id": "Or83UCQPOpb-",
        "outputId": "9d96c6bf-e130-4504-eb97-794f1b0b680b"
      },
      "execution_count": null,
      "outputs": [
        {
          "output_type": "stream",
          "name": "stdout",
          "text": [
            "X_train shape :  (60000, 28, 28)\n"
          ]
        }
      ]
    },
    {
      "cell_type": "code",
      "source": [
        "from keras import utils"
      ],
      "metadata": {
        "id": "UKx41dv-OyY1"
      },
      "execution_count": null,
      "outputs": []
    },
    {
      "cell_type": "code",
      "source": [
        "num_classes=10\n",
        "print(\"Integer valued labels:\")\n",
        "print(Y_train[:6])\n",
        "Y_train=utils.to_categorical(Y_train,num_classes)\n",
        "Y_test=utils.to_categorical(Y_test,num_classes)\n",
        "print(\"One hot labels:\")\n",
        "print(Y_train[:6])"
      ],
      "metadata": {
        "colab": {
          "base_uri": "https://localhost:8080/"
        },
        "id": "P1bGO25QPcMb",
        "outputId": "b60a9a52-41a4-4a00-cdde-4694abd42a64"
      },
      "execution_count": null,
      "outputs": [
        {
          "output_type": "stream",
          "name": "stdout",
          "text": [
            "Integer valued labels:\n",
            "[5 0 4 1 9 2]\n",
            "One hot labels:\n",
            "[[0. 0. 0. 0. 0. 1. 0. 0. 0. 0.]\n",
            " [1. 0. 0. 0. 0. 0. 0. 0. 0. 0.]\n",
            " [0. 0. 0. 0. 1. 0. 0. 0. 0. 0.]\n",
            " [0. 1. 0. 0. 0. 0. 0. 0. 0. 0.]\n",
            " [0. 0. 0. 0. 0. 0. 0. 0. 0. 1.]\n",
            " [0. 0. 1. 0. 0. 0. 0. 0. 0. 0.]]\n"
          ]
        }
      ]
    },
    {
      "cell_type": "code",
      "source": [
        "img_rows,img_cols=28,28\n",
        "X_train=X_train.reshape(X_train.shape[0],img_rows,img_cols,1)\n",
        "X_test=X_test.reshape(X_test.shape[0],img_rows,img_cols,1)\n",
        "input_shape=(img_rows,img_cols,1)\n",
        "print(\"Input shape: \",input_shape)\n",
        "print(\"x_train shape: \",X_train.shape)"
      ],
      "metadata": {
        "colab": {
          "base_uri": "https://localhost:8080/"
        },
        "id": "PwPevh_SQd3u",
        "outputId": "3544a10d-6af7-4111-a5d5-8bf5f0bb177f"
      },
      "execution_count": null,
      "outputs": [
        {
          "output_type": "stream",
          "name": "stdout",
          "text": [
            "Input shape:  (28, 28, 1)\n",
            "x_train shape:  (60000, 28, 28, 1)\n"
          ]
        }
      ]
    },
    {
      "cell_type": "code",
      "source": [
        "from tensorflow.keras.models import Sequential\n",
        "from tensorflow.keras.layers import Conv2D,MaxPooling2D,Flatten,Dense,Dropout,GlobalAveragePooling2D\n"
      ],
      "metadata": {
        "id": "ZfpSISE8RxFo"
      },
      "execution_count": null,
      "outputs": []
    },
    {
      "cell_type": "code",
      "source": [
        "model=Sequential()\n",
        "model.add(Conv2D(32,kernel_size=(3,3),padding='same',activation='relu',input_shape=(28,28,1)))\n",
        "model.add(MaxPooling2D(pool_size=(2,2)))\n",
        "model.add(Conv2D(64,(3,3),padding='same',activation='relu'))\n",
        "model.add(MaxPooling2D(pool_size=(2,2)))\n",
        "model.add(Flatten())\n",
        "model.add(Dense(64,activation='relu'))\n",
        "model.add(Dense(10,activation='softmax'))\n",
        "model.summary()"
      ],
      "metadata": {
        "colab": {
          "base_uri": "https://localhost:8080/"
        },
        "id": "NgULZCg6S_0U",
        "outputId": "529e5f0f-d82d-4285-a4a1-78456a5df1df"
      },
      "execution_count": null,
      "outputs": [
        {
          "output_type": "stream",
          "name": "stdout",
          "text": [
            "Model: \"sequential_2\"\n",
            "_________________________________________________________________\n",
            " Layer (type)                Output Shape              Param #   \n",
            "=================================================================\n",
            " conv2d_4 (Conv2D)           (None, 28, 28, 32)        320       \n",
            "                                                                 \n",
            " max_pooling2d_4 (MaxPoolin  (None, 14, 14, 32)        0         \n",
            " g2D)                                                            \n",
            "                                                                 \n",
            " conv2d_5 (Conv2D)           (None, 14, 14, 64)        18496     \n",
            "                                                                 \n",
            " max_pooling2d_5 (MaxPoolin  (None, 7, 7, 64)          0         \n",
            " g2D)                                                            \n",
            "                                                                 \n",
            " flatten_2 (Flatten)         (None, 3136)              0         \n",
            "                                                                 \n",
            " dense_4 (Dense)             (None, 64)                200768    \n",
            "                                                                 \n",
            " dense_5 (Dense)             (None, 10)                650       \n",
            "                                                                 \n",
            "=================================================================\n",
            "Total params: 220234 (860.29 KB)\n",
            "Trainable params: 220234 (860.29 KB)\n",
            "Non-trainable params: 0 (0.00 Byte)\n",
            "_________________________________________________________________\n"
          ]
        }
      ]
    },
    {
      "cell_type": "code",
      "source": [
        "model.compile(loss=\"categorical_crossentropy\",optimizer='adam',metrics=['accuracy'])"
      ],
      "metadata": {
        "id": "iDvRp9sxT5TJ"
      },
      "execution_count": null,
      "outputs": []
    },
    {
      "cell_type": "code",
      "source": [
        "from keras.callbacks import ModelCheckpoint"
      ],
      "metadata": {
        "id": "DRR_rv1GVAUz"
      },
      "execution_count": null,
      "outputs": []
    },
    {
      "cell_type": "code",
      "source": [
        "checkpointer = ModelCheckpoint(filepath='model.weights.best.hdf5', verbose=1, save_best_only=True)\n",
        "hist = model.fit(X_train, Y_train, batch_size=64, epochs=10, validation_data=(X_test,Y_test), callbacks=[checkpointer], verbose=2, shuffle=True)\n",
        "\n"
      ],
      "metadata": {
        "colab": {
          "base_uri": "https://localhost:8080/"
        },
        "id": "xCsqP4VohCew",
        "outputId": "9199712a-775b-4f2f-ab03-3a80d6b6bfbc"
      },
      "execution_count": null,
      "outputs": [
        {
          "output_type": "stream",
          "name": "stdout",
          "text": [
            "Epoch 1/10\n",
            "\n",
            "Epoch 1: val_loss improved from inf to 0.04169, saving model to model.weights.best.hdf5\n",
            "938/938 - 72s - loss: 0.1589 - accuracy: 0.9524 - val_loss: 0.0417 - val_accuracy: 0.9859 - 72s/epoch - 77ms/step\n",
            "Epoch 2/10\n"
          ]
        },
        {
          "output_type": "stream",
          "name": "stderr",
          "text": [
            "/usr/local/lib/python3.10/dist-packages/keras/src/engine/training.py:3103: UserWarning: You are saving your model as an HDF5 file via `model.save()`. This file format is considered legacy. We recommend using instead the native Keras format, e.g. `model.save('my_model.keras')`.\n",
            "  saving_api.save_model(\n"
          ]
        },
        {
          "output_type": "stream",
          "name": "stdout",
          "text": [
            "\n",
            "Epoch 2: val_loss improved from 0.04169 to 0.03636, saving model to model.weights.best.hdf5\n",
            "938/938 - 70s - loss: 0.0466 - accuracy: 0.9856 - val_loss: 0.0364 - val_accuracy: 0.9882 - 70s/epoch - 75ms/step\n",
            "Epoch 3/10\n",
            "\n",
            "Epoch 3: val_loss improved from 0.03636 to 0.03289, saving model to model.weights.best.hdf5\n",
            "938/938 - 70s - loss: 0.0332 - accuracy: 0.9898 - val_loss: 0.0329 - val_accuracy: 0.9900 - 70s/epoch - 75ms/step\n",
            "Epoch 4/10\n",
            "\n",
            "Epoch 4: val_loss improved from 0.03289 to 0.02659, saving model to model.weights.best.hdf5\n",
            "938/938 - 70s - loss: 0.0250 - accuracy: 0.9918 - val_loss: 0.0266 - val_accuracy: 0.9900 - 70s/epoch - 75ms/step\n",
            "Epoch 5/10\n",
            "\n",
            "Epoch 5: val_loss improved from 0.02659 to 0.02611, saving model to model.weights.best.hdf5\n",
            "938/938 - 68s - loss: 0.0190 - accuracy: 0.9941 - val_loss: 0.0261 - val_accuracy: 0.9913 - 68s/epoch - 72ms/step\n",
            "Epoch 6/10\n",
            "\n",
            "Epoch 6: val_loss did not improve from 0.02611\n",
            "938/938 - 67s - loss: 0.0153 - accuracy: 0.9953 - val_loss: 0.0318 - val_accuracy: 0.9902 - 67s/epoch - 72ms/step\n",
            "Epoch 7/10\n",
            "\n",
            "Epoch 7: val_loss did not improve from 0.02611\n",
            "938/938 - 70s - loss: 0.0113 - accuracy: 0.9963 - val_loss: 0.0349 - val_accuracy: 0.9902 - 70s/epoch - 74ms/step\n",
            "Epoch 8/10\n",
            "\n",
            "Epoch 8: val_loss did not improve from 0.02611\n",
            "938/938 - 69s - loss: 0.0105 - accuracy: 0.9965 - val_loss: 0.0283 - val_accuracy: 0.9925 - 69s/epoch - 74ms/step\n",
            "Epoch 9/10\n",
            "\n",
            "Epoch 9: val_loss did not improve from 0.02611\n",
            "938/938 - 70s - loss: 0.0071 - accuracy: 0.9977 - val_loss: 0.0541 - val_accuracy: 0.9854 - 70s/epoch - 74ms/step\n",
            "Epoch 10/10\n",
            "\n",
            "Epoch 10: val_loss did not improve from 0.02611\n",
            "938/938 - 67s - loss: 0.0069 - accuracy: 0.9977 - val_loss: 0.0326 - val_accuracy: 0.9909 - 67s/epoch - 71ms/step\n"
          ]
        }
      ]
    },
    {
      "cell_type": "code",
      "source": [
        "model.load_weights('model.weights.best.hdf5')"
      ],
      "metadata": {
        "id": "vd4wQoI6wq3X"
      },
      "execution_count": null,
      "outputs": []
    },
    {
      "cell_type": "code",
      "source": [
        "score=model.evaluate(X_test,Y_test,verbose=0)\n",
        "accuracy=100*score[1]\n",
        "print(\"Test accuracy: \",accuracy)"
      ],
      "metadata": {
        "colab": {
          "base_uri": "https://localhost:8080/"
        },
        "id": "Jyeeq6LWUdx4",
        "outputId": "b574235b-5702-489b-d402-e48460279c5b"
      },
      "execution_count": null,
      "outputs": [
        {
          "output_type": "stream",
          "name": "stdout",
          "text": [
            "Test accuracy:  99.12999868392944\n"
          ]
        }
      ]
    },
    {
      "cell_type": "code",
      "source": [
        "y_pred=model.predict(X_test)"
      ],
      "metadata": {
        "colab": {
          "base_uri": "https://localhost:8080/"
        },
        "id": "cPV7YesllM1-",
        "outputId": "ef4bde85-6654-4b8f-fd20-1bb792213944"
      },
      "execution_count": null,
      "outputs": [
        {
          "output_type": "stream",
          "name": "stdout",
          "text": [
            "313/313 [==============================] - 4s 14ms/step\n"
          ]
        }
      ]
    },
    {
      "cell_type": "code",
      "source": [
        "y_pred= np.argmax(y_pred, axis=1)"
      ],
      "metadata": {
        "id": "gO3gDeIvxFiT"
      },
      "execution_count": null,
      "outputs": []
    },
    {
      "cell_type": "code",
      "source": [
        "y_pred[0]"
      ],
      "metadata": {
        "colab": {
          "base_uri": "https://localhost:8080/"
        },
        "id": "ZGK1Ebh_xry2",
        "outputId": "f3cd0830-1cbc-4746-bf2f-ff72a66f8024"
      },
      "execution_count": null,
      "outputs": [
        {
          "output_type": "execute_result",
          "data": {
            "text/plain": [
              "7"
            ]
          },
          "metadata": {},
          "execution_count": 108
        }
      ]
    },
    {
      "cell_type": "code",
      "source": [
        "y=np.argmax(Y_test[0])"
      ],
      "metadata": {
        "id": "dfMMEXuux2oJ"
      },
      "execution_count": null,
      "outputs": []
    },
    {
      "cell_type": "code",
      "source": [
        "y"
      ],
      "metadata": {
        "colab": {
          "base_uri": "https://localhost:8080/"
        },
        "id": "1SqJgii1yCQh",
        "outputId": "d6213422-ac2a-4ccc-b97b-da0ab0873fe0"
      },
      "execution_count": null,
      "outputs": [
        {
          "output_type": "execute_result",
          "data": {
            "text/plain": [
              "7"
            ]
          },
          "metadata": {},
          "execution_count": 111
        }
      ]
    },
    {
      "cell_type": "code",
      "source": [
        "fig=plt.figure(figsize=(20,20))\n",
        "for i in range(6):\n",
        "  ax=fig.add_subplot(1,6,i+1,xticks=[],yticks=[])\n",
        "  ax.imshow(X_test[i],cmap='gray')\n",
        "  ax.set_title(\"{} ({})\".format(y_pred[i],np.argmax(Y_test[i])))"
      ],
      "metadata": {
        "id": "GvZPbKVsyIFu",
        "colab": {
          "base_uri": "https://localhost:8080/",
          "height": 254
        },
        "outputId": "5c4e77b2-df7c-421a-af11-a20dfc30bb43"
      },
      "execution_count": 113,
      "outputs": [
        {
          "output_type": "display_data",
          "data": {
            "text/plain": [
              "<Figure size 2000x2000 with 6 Axes>"
            ],
            "image/png": "[encoded data removed]"
          },
          "metadata": {}
        }
      ]
    },
    {
      "cell_type": "code",
      "source": [],
      "metadata": {
        "id": "3yXx_lFey46V"
      },
      "execution_count": null,
      "outputs": []
    }
  ]
}